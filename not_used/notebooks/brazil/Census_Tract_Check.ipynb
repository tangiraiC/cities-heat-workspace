{
 "cells": [
  {
   "cell_type": "code",
   "execution_count": 1,
   "id": "2afa5f7a",
   "metadata": {},
   "outputs": [],
   "source": [
    "import os\n",
    "import warnings\n",
    "warnings.simplefilter('ignore')\n",
    "\n",
    "import geopandas as gpd\n",
    "import pandas as pd\n",
    "import numpy as np"
   ]
  },
  {
   "cell_type": "code",
   "execution_count": 2,
   "id": "26b7d64d",
   "metadata": {},
   "outputs": [],
   "source": [
    "census_tract = gpd.read_file('https://cities-socio-economic-vulnerability.s3.eu-west-3.amazonaws.com/case-studies/campinas/census_trac_geo.geojson')"
   ]
  },
  {
   "cell_type": "code",
   "execution_count": 3,
   "id": "825167af",
   "metadata": {},
   "outputs": [],
   "source": [
    "census_tract.dropna(how='all', axis=1, inplace=True)"
   ]
  },
  {
   "cell_type": "code",
   "execution_count": 4,
   "id": "e6737a73",
   "metadata": {},
   "outputs": [],
   "source": [
    "census_tract = census_tract.rename({'p_5or6':'p_5or6_m'}, axis = 1)"
   ]
  },
  {
   "cell_type": "code",
   "execution_count": 5,
   "id": "4982c328",
   "metadata": {},
   "outputs": [],
   "source": [
    "male = ['p_5or6_m', 'p_7to9_m', 'p_10to14_m', 'p_15to19_m', 'p_20to24_m', 'p_25to29_m', 'p_30to34_m', 'p_35to39_m', 'p_40to44_m', 'p_45to49_m', 'p_50to54_m', 'p_55to59_m', 'p_60to69_m', 'p_70m_m']"
   ]
  },
  {
   "cell_type": "code",
   "execution_count": 6,
   "id": "cc39fc06",
   "metadata": {},
   "outputs": [],
   "source": [
    "census_tract['p_tot_m'] = 0\n",
    "\n",
    "for i in male:\n",
    "    census_tract['p_tot_m'] = census_tract['p_tot_m'] + census_tract[i]\n",
    "\n",
    "census_tract['p_tot_f'] = census_tract['p_tot'] - census_tract['p_tot_m']"
   ]
  },
  {
   "cell_type": "code",
   "execution_count": 7,
   "id": "1b7f1532",
   "metadata": {},
   "outputs": [],
   "source": [
    "census_tract['p_0to14yr'] = census_tract['p_0to4'] + census_tract['p_5to9'] + census_tract['p_10to14']\n",
    "census_tract['p_15to19yr'] = census_tract['p_15to19']\n",
    "census_tract['p_20to59yr'] = census_tract['p_20to24'] + census_tract['p_25to29'] + census_tract['p_30to34'] + census_tract['p_35to39'] + census_tract['p_40to44'] + census_tract['p_45to49'] + census_tract['p_50to54'] + census_tract['p_55to59']\n",
    "census_tract['p_60+yr'] = census_tract['p_60to69'] + census_tract['p_70m']"
   ]
  },
  {
   "cell_type": "code",
   "execution_count": 8,
   "id": "5d15d3b6",
   "metadata": {},
   "outputs": [],
   "source": [
    "census_tract['p_10+yr'] = census_tract['p_10to14'] + census_tract['p_15to19yr'] + census_tract['p_20to59yr'] + census_tract['p_60+yr']"
   ]
  },
  {
   "cell_type": "code",
   "execution_count": 9,
   "id": "251defb2",
   "metadata": {},
   "outputs": [],
   "source": [
    "census_tract['p_mean_inc1_city'] = (census_tract['p_mean_inc1']*census_tract['p_10+yr']).sum()/census_tract['p_10+yr'].sum()"
   ]
  },
  {
   "cell_type": "code",
   "execution_count": 10,
   "id": "5bbe036e",
   "metadata": {},
   "outputs": [],
   "source": [
    "var = ['p_tot', 'p_tot_f', 'p_tot_m'] + ['p_wht', 'p_black', 'p_yellow', 'p_brown', 'p_indig'] + ['p_0to14yr', 'p_15to19yr', 'p_20to59yr', 'p_60+yr'] + ['p_mean_inc1', 'p_mean_inc1_city']"
   ]
  },
  {
   "cell_type": "code",
   "execution_count": 11,
   "id": "2f3104fd",
   "metadata": {},
   "outputs": [],
   "source": [
    "keep = ['code_tract'] + var + ['geometry']"
   ]
  },
  {
   "cell_type": "code",
   "execution_count": 12,
   "id": "38642234",
   "metadata": {},
   "outputs": [],
   "source": [
    "census_tract_keep = census_tract[keep]"
   ]
  },
  {
   "cell_type": "code",
   "execution_count": 13,
   "id": "80173d53",
   "metadata": {},
   "outputs": [],
   "source": [
    "for k in var[1:-2]:\n",
    "    census_tract_keep['prop1_'+k] = round(100*census_tract_keep[k]/census_tract_keep['p_tot'],4)"
   ]
  },
  {
   "cell_type": "code",
   "execution_count": 14,
   "id": "d696387b",
   "metadata": {},
   "outputs": [],
   "source": [
    "for k in var[:-2]:\n",
    "    census_tract_keep['prop2_'+k] = round(100*census_tract_keep[k]/census_tract_keep[k].sum(),4)"
   ]
  },
  {
   "cell_type": "code",
   "execution_count": 15,
   "id": "a6dfe4fe",
   "metadata": {},
   "outputs": [],
   "source": [
    "census_tract_keep['prop2_' + 'p_mean_inc1'] = round(100*census_tract_keep['p_mean_inc1']/census_tract_keep['p_mean_inc1_city'],4)"
   ]
  },
  {
   "cell_type": "code",
   "execution_count": 18,
   "id": "21ac837d",
   "metadata": {},
   "outputs": [],
   "source": [
    "census_tract_keep['p_10+yr'] = census_tract['p_10+yr']"
   ]
  },
  {
   "cell_type": "code",
   "execution_count": 21,
   "id": "776598ec",
   "metadata": {},
   "outputs": [],
   "source": [
    "census_tract_keep.to_file('../Data/census_tract_keep.geojson')"
   ]
  },
  {
   "cell_type": "code",
   "execution_count": null,
   "id": "7fcdff8b",
   "metadata": {},
   "outputs": [],
   "source": []
  }
 ],
 "metadata": {
  "kernelspec": {
   "display_name": "Python 3 (ipykernel)",
   "language": "python",
   "name": "python3"
  },
  "language_info": {
   "codemirror_mode": {
    "name": "ipython",
    "version": 3
   },
   "file_extension": ".py",
   "mimetype": "text/x-python",
   "name": "python",
   "nbconvert_exporter": "python",
   "pygments_lexer": "ipython3",
   "version": "3.10.13"
  }
 },
 "nbformat": 4,
 "nbformat_minor": 5
}
