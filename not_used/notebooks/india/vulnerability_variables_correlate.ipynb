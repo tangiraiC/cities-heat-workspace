{
 "cells": [
  {
   "cell_type": "code",
   "execution_count": 1,
   "id": "fc955838",
   "metadata": {},
   "outputs": [],
   "source": [
    "import os\n",
    "\n",
    "import warnings \n",
    "warnings.simplefilter('ignore')\n",
    "\n",
    "import geopandas as gpd\n",
    "import pandas as pd\n",
    "import numpy as np"
   ]
  },
  {
   "cell_type": "code",
   "execution_count": 38,
   "id": "4ccabc5b",
   "metadata": {},
   "outputs": [],
   "source": [
    "geocensus_path = '../Data/Mumbai_Wards.geojson'\n",
    "zs_lst_path = '../Data/ZS_LST_Test.geojson'\n",
    "zs_ndvi_path = '../Data/ZS_NDVI_Test.geojson'\n",
    "vul_para_path = '../Data/VulnerabilityParameters.xlsx' # has list of selected parameters as entries in column Parameters\n",
    "census_var_def_path = 'https://cities-socio-economic-vulnerability.s3.eu-west-3.amazonaws.com/data/dev/india_2/census/2011/census_variables_definition.csv'"
   ]
  },
  {
   "cell_type": "code",
   "execution_count": 68,
   "id": "0c1d214e",
   "metadata": {},
   "outputs": [],
   "source": [
    "census_var_def = pd.read_csv(census_var_def_path).fillna(method='ffill')"
   ]
  },
  {
   "cell_type": "code",
   "execution_count": 69,
   "id": "3048aaee",
   "metadata": {},
   "outputs": [],
   "source": [
    "geocensus = gpd.read_file(geocensus_path)"
   ]
  },
  {
   "cell_type": "code",
   "execution_count": 70,
   "id": "d86f87a3",
   "metadata": {},
   "outputs": [],
   "source": [
    "# read and slice lst\n",
    "lst_zs_gdf = gpd.read_file(zs_lst_path)\n",
    "lst_zs = lst_zs_gdf[['index', 'lst_mean']]"
   ]
  },
  {
   "cell_type": "code",
   "execution_count": 71,
   "id": "f6f468ce",
   "metadata": {},
   "outputs": [],
   "source": [
    "# read and slice ndvi\n",
    "ndvi_zs_gdf = gpd.read_file(zs_ndvi_path)\n",
    "ndvi_zs = ndvi_zs_gdf[['index', 'ndvi_mean']]"
   ]
  },
  {
   "cell_type": "code",
   "execution_count": 72,
   "id": "d28caed7",
   "metadata": {},
   "outputs": [],
   "source": [
    "# read and get list of Selected Parameters \n",
    "vul_para = pd.read_excel(vul_para_path)\n",
    "vul_para_list = list(vul_para['Parameters'])"
   ]
  },
  {
   "cell_type": "code",
   "execution_count": 74,
   "id": "291d3dcf",
   "metadata": {},
   "outputs": [],
   "source": [
    "census_vul = geocensus[['index'] + vul_para_list]"
   ]
  },
  {
   "cell_type": "code",
   "execution_count": 75,
   "id": "cb615440",
   "metadata": {},
   "outputs": [],
   "source": [
    "df = census_vul.merge(lst_zs, on = 'index', how = 'left').merge(ndvi_zs, on = 'index', how = 'left')\n",
    "df = df.drop('index', axis = 1)"
   ]
  },
  {
   "cell_type": "code",
   "execution_count": 76,
   "id": "a2e06969",
   "metadata": {},
   "outputs": [],
   "source": [
    "df_corr = df.corr()"
   ]
  },
  {
   "cell_type": "code",
   "execution_count": 77,
   "id": "b0163b7e",
   "metadata": {},
   "outputs": [],
   "source": [
    "corr_lst = df_corr[['lst_mean']]\n",
    "corr_lst = corr_lst[corr_lst.index != 'lst_mean']"
   ]
  },
  {
   "cell_type": "code",
   "execution_count": 78,
   "id": "5a26128f",
   "metadata": {},
   "outputs": [],
   "source": [
    "corr_lst = corr_lst.reset_index()"
   ]
  },
  {
   "cell_type": "code",
   "execution_count": 79,
   "id": "e921b278",
   "metadata": {},
   "outputs": [],
   "source": [
    "corr_lst = corr_lst.rename({'index':'variable_name_processed'}, axis = 1)"
   ]
  },
  {
   "cell_type": "code",
   "execution_count": 80,
   "id": "01e2ee34",
   "metadata": {},
   "outputs": [],
   "source": [
    "corr_lst = census_var_def.merge(corr_lst, on = 'variable_name_processed', how = 'right')"
   ]
  },
  {
   "cell_type": "code",
   "execution_count": 84,
   "id": "c45bb30d",
   "metadata": {},
   "outputs": [],
   "source": [
    "corr_lst['variable_category'] = np.select([corr_lst['variable_name_processed'] == 'ndvi_mean'], ['Vegetation'], corr_lst['variable_category'])\n",
    "corr_lst['variable_name_processed_viz'] = np.select([corr_lst['variable_name_processed'] == 'ndvi_mean'], ['NDVI'], corr_lst['variable_name_processed_viz'])"
   ]
  },
  {
   "cell_type": "code",
   "execution_count": 85,
   "id": "016d5165",
   "metadata": {},
   "outputs": [
    {
     "data": {
      "text/html": [
       "<div>\n",
       "<style scoped>\n",
       "    .dataframe tbody tr th:only-of-type {\n",
       "        vertical-align: middle;\n",
       "    }\n",
       "\n",
       "    .dataframe tbody tr th {\n",
       "        vertical-align: top;\n",
       "    }\n",
       "\n",
       "    .dataframe thead th {\n",
       "        text-align: right;\n",
       "    }\n",
       "</style>\n",
       "<table border=\"1\" class=\"dataframe\">\n",
       "  <thead>\n",
       "    <tr style=\"text-align: right;\">\n",
       "      <th></th>\n",
       "      <th>variable_category</th>\n",
       "      <th>variable_name_processed</th>\n",
       "      <th>variable_name_processed_viz</th>\n",
       "      <th>lst_mean</th>\n",
       "    </tr>\n",
       "  </thead>\n",
       "  <tbody>\n",
       "    <tr>\n",
       "      <th>0</th>\n",
       "      <td>Pop-Basics</td>\n",
       "      <td>p_tot</td>\n",
       "      <td>Pop</td>\n",
       "      <td>0.186180</td>\n",
       "    </tr>\n",
       "    <tr>\n",
       "      <th>1</th>\n",
       "      <td>Pop-Basics</td>\n",
       "      <td>p_tot_m</td>\n",
       "      <td>Male pop</td>\n",
       "      <td>0.195948</td>\n",
       "    </tr>\n",
       "    <tr>\n",
       "      <th>2</th>\n",
       "      <td>Pop-Basics</td>\n",
       "      <td>p_tot_f</td>\n",
       "      <td>Female pop</td>\n",
       "      <td>0.174107</td>\n",
       "    </tr>\n",
       "    <tr>\n",
       "      <th>3</th>\n",
       "      <td>Pop-Basics</td>\n",
       "      <td>prop_m_f</td>\n",
       "      <td>Male/female ratio</td>\n",
       "      <td>0.338557</td>\n",
       "    </tr>\n",
       "    <tr>\n",
       "      <th>4</th>\n",
       "      <td>Pop-Basics</td>\n",
       "      <td>p_0to6</td>\n",
       "      <td>Pop aged 0 - 6 yrs</td>\n",
       "      <td>0.192644</td>\n",
       "    </tr>\n",
       "    <tr>\n",
       "      <th>...</th>\n",
       "      <td>...</td>\n",
       "      <td>...</td>\n",
       "      <td>...</td>\n",
       "      <td>...</td>\n",
       "    </tr>\n",
       "    <tr>\n",
       "      <th>79</th>\n",
       "      <td>Households-assets</td>\n",
       "      <td>hh_prop_mtrcl</td>\n",
       "      <td>Pct of households with scooter/ motorcycle / m...</td>\n",
       "      <td>-0.056435</td>\n",
       "    </tr>\n",
       "    <tr>\n",
       "      <th>80</th>\n",
       "      <td>Households-assets</td>\n",
       "      <td>hh_prop_ncar</td>\n",
       "      <td>Pct of households without car/ jeep / van</td>\n",
       "      <td>0.469747</td>\n",
       "    </tr>\n",
       "    <tr>\n",
       "      <th>81</th>\n",
       "      <td>Households-assets</td>\n",
       "      <td>hh_prop_allgoods</td>\n",
       "      <td>Pct of households with TV, computer/laptop, te...</td>\n",
       "      <td>-0.432875</td>\n",
       "    </tr>\n",
       "    <tr>\n",
       "      <th>82</th>\n",
       "      <td>Households-assets</td>\n",
       "      <td>hh_prop_ngoods</td>\n",
       "      <td>Pct of households with none of the assets spec...</td>\n",
       "      <td>-0.119398</td>\n",
       "    </tr>\n",
       "    <tr>\n",
       "      <th>83</th>\n",
       "      <td>Vegetation</td>\n",
       "      <td>ndvi_mean</td>\n",
       "      <td>NDVI</td>\n",
       "      <td>-0.488203</td>\n",
       "    </tr>\n",
       "  </tbody>\n",
       "</table>\n",
       "<p>84 rows × 4 columns</p>\n",
       "</div>"
      ],
      "text/plain": [
       "    variable_category variable_name_processed  \\\n",
       "0          Pop-Basics                   p_tot   \n",
       "1          Pop-Basics                 p_tot_m   \n",
       "2          Pop-Basics                 p_tot_f   \n",
       "3          Pop-Basics                prop_m_f   \n",
       "4          Pop-Basics                  p_0to6   \n",
       "..                ...                     ...   \n",
       "79  Households-assets           hh_prop_mtrcl   \n",
       "80  Households-assets            hh_prop_ncar   \n",
       "81  Households-assets        hh_prop_allgoods   \n",
       "82  Households-assets          hh_prop_ngoods   \n",
       "83         Vegetation               ndvi_mean   \n",
       "\n",
       "                          variable_name_processed_viz  lst_mean  \n",
       "0                                                 Pop  0.186180  \n",
       "1                                            Male pop  0.195948  \n",
       "2                                          Female pop  0.174107  \n",
       "3                                   Male/female ratio  0.338557  \n",
       "4                                  Pop aged 0 - 6 yrs  0.192644  \n",
       "..                                                ...       ...  \n",
       "79  Pct of households with scooter/ motorcycle / m... -0.056435  \n",
       "80          Pct of households without car/ jeep / van  0.469747  \n",
       "81  Pct of households with TV, computer/laptop, te... -0.432875  \n",
       "82  Pct of households with none of the assets spec... -0.119398  \n",
       "83                                               NDVI -0.488203  \n",
       "\n",
       "[84 rows x 4 columns]"
      ]
     },
     "execution_count": 85,
     "metadata": {},
     "output_type": "execute_result"
    }
   ],
   "source": [
    "corr_lst"
   ]
  },
  {
   "cell_type": "code",
   "execution_count": 83,
   "id": "a1148983",
   "metadata": {},
   "outputs": [],
   "source": [
    "corr_lst.to_excel('../Data/Mumbai_Correlation.xlsx', index = False)"
   ]
  },
  {
   "cell_type": "code",
   "execution_count": 87,
   "id": "e230e4ae",
   "metadata": {},
   "outputs": [
    {
     "data": {
      "text/html": [
       "<div>\n",
       "<style scoped>\n",
       "    .dataframe tbody tr th:only-of-type {\n",
       "        vertical-align: middle;\n",
       "    }\n",
       "\n",
       "    .dataframe tbody tr th {\n",
       "        vertical-align: top;\n",
       "    }\n",
       "\n",
       "    .dataframe thead th {\n",
       "        text-align: right;\n",
       "    }\n",
       "</style>\n",
       "<table border=\"1\" class=\"dataframe\">\n",
       "  <thead>\n",
       "    <tr style=\"text-align: right;\">\n",
       "      <th></th>\n",
       "      <th>variable_category</th>\n",
       "      <th>variable_name_processed</th>\n",
       "      <th>variable_name_processed_viz</th>\n",
       "      <th>lst_mean</th>\n",
       "    </tr>\n",
       "  </thead>\n",
       "  <tbody>\n",
       "    <tr>\n",
       "      <th>21</th>\n",
       "      <td>Pop-Employment</td>\n",
       "      <td>p_prop_nwkrs_f</td>\n",
       "      <td>Non-wkrs female pop</td>\n",
       "      <td>0.611172</td>\n",
       "    </tr>\n",
       "  </tbody>\n",
       "</table>\n",
       "</div>"
      ],
      "text/plain": [
       "   variable_category variable_name_processed variable_name_processed_viz  \\\n",
       "21    Pop-Employment          p_prop_nwkrs_f        Non-wkrs female pop    \n",
       "\n",
       "    lst_mean  \n",
       "21  0.611172  "
      ]
     },
     "execution_count": 87,
     "metadata": {},
     "output_type": "execute_result"
    }
   ],
   "source": [
    "corr_lst[corr_lst['lst_mean'] == corr_lst['lst_mean'].max()]"
   ]
  },
  {
   "cell_type": "code",
   "execution_count": 66,
   "id": "76b1a813",
   "metadata": {},
   "outputs": [
    {
     "data": {
      "text/html": [
       "<div>\n",
       "<style scoped>\n",
       "    .dataframe tbody tr th:only-of-type {\n",
       "        vertical-align: middle;\n",
       "    }\n",
       "\n",
       "    .dataframe tbody tr th {\n",
       "        vertical-align: top;\n",
       "    }\n",
       "\n",
       "    .dataframe thead th {\n",
       "        text-align: right;\n",
       "    }\n",
       "</style>\n",
       "<table border=\"1\" class=\"dataframe\">\n",
       "  <thead>\n",
       "    <tr style=\"text-align: right;\">\n",
       "      <th></th>\n",
       "      <th>variable_category</th>\n",
       "      <th>variable_name_processed</th>\n",
       "      <th>variable_name_processed_viz</th>\n",
       "      <th>lst_mean</th>\n",
       "    </tr>\n",
       "  </thead>\n",
       "  <tbody>\n",
       "    <tr>\n",
       "      <th>68</th>\n",
       "      <td>Households-size</td>\n",
       "      <td>hh_prop_3rms</td>\n",
       "      <td>Pct of households with 3 rooms</td>\n",
       "      <td>-0.5517</td>\n",
       "    </tr>\n",
       "  </tbody>\n",
       "</table>\n",
       "</div>"
      ],
      "text/plain": [
       "   variable_category variable_name_processed     variable_name_processed_viz  \\\n",
       "68   Households-size            hh_prop_3rms  Pct of households with 3 rooms   \n",
       "\n",
       "    lst_mean  \n",
       "68   -0.5517  "
      ]
     },
     "execution_count": 66,
     "metadata": {},
     "output_type": "execute_result"
    }
   ],
   "source": [
    "corr_lst[corr_lst['lst_mean'] == corr_lst['lst_mean'].min()]"
   ]
  },
  {
   "cell_type": "code",
   "execution_count": 67,
   "id": "c811ec33",
   "metadata": {},
   "outputs": [
    {
     "data": {
      "text/html": [
       "<div>\n",
       "<style scoped>\n",
       "    .dataframe tbody tr th:only-of-type {\n",
       "        vertical-align: middle;\n",
       "    }\n",
       "\n",
       "    .dataframe tbody tr th {\n",
       "        vertical-align: top;\n",
       "    }\n",
       "\n",
       "    .dataframe thead th {\n",
       "        text-align: right;\n",
       "    }\n",
       "</style>\n",
       "<table border=\"1\" class=\"dataframe\">\n",
       "  <thead>\n",
       "    <tr style=\"text-align: right;\">\n",
       "      <th></th>\n",
       "      <th>variable_category</th>\n",
       "      <th>variable_name_processed</th>\n",
       "      <th>variable_name_processed_viz</th>\n",
       "      <th>lst_mean</th>\n",
       "    </tr>\n",
       "  </thead>\n",
       "  <tbody>\n",
       "    <tr>\n",
       "      <th>83</th>\n",
       "      <td>NDVI</td>\n",
       "      <td>ndvi_mean</td>\n",
       "      <td>NDVI</td>\n",
       "      <td>-0.488203</td>\n",
       "    </tr>\n",
       "  </tbody>\n",
       "</table>\n",
       "</div>"
      ],
      "text/plain": [
       "   variable_category variable_name_processed variable_name_processed_viz  \\\n",
       "83              NDVI               ndvi_mean                        NDVI   \n",
       "\n",
       "    lst_mean  \n",
       "83 -0.488203  "
      ]
     },
     "execution_count": 67,
     "metadata": {},
     "output_type": "execute_result"
    }
   ],
   "source": [
    "corr_lst[corr_lst.variable_name_processed == 'ndvi_mean']"
   ]
  },
  {
   "cell_type": "code",
   "execution_count": null,
   "id": "609ccad4",
   "metadata": {},
   "outputs": [],
   "source": []
  }
 ],
 "metadata": {
  "kernelspec": {
   "display_name": "Python 3 (ipykernel)",
   "language": "python",
   "name": "python3"
  },
  "language_info": {
   "codemirror_mode": {
    "name": "ipython",
    "version": 3
   },
   "file_extension": ".py",
   "mimetype": "text/x-python",
   "name": "python",
   "nbconvert_exporter": "python",
   "pygments_lexer": "ipython3",
   "version": "3.10.13"
  }
 },
 "nbformat": 4,
 "nbformat_minor": 5
}
