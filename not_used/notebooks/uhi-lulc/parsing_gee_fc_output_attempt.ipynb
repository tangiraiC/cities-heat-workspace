{
 "cells": [
  {
   "cell_type": "code",
   "execution_count": 1,
   "id": "9c9918d4-4e22-40bd-88c4-b1a4866256df",
   "metadata": {},
   "outputs": [],
   "source": [
    "import pandas as pd\n",
    "import ast"
   ]
  },
  {
   "cell_type": "markdown",
   "id": "b70ac589",
   "metadata": {},
   "source": [
    "Struggling to pull one of the group dictionaries up to their own csv columns on output, and not finding much progress here disentangling the string objects"
   ]
  },
  {
   "cell_type": "code",
   "execution_count": 2,
   "id": "6eb9a5a0-fc86-4f49-83f0-021e2732ae76",
   "metadata": {},
   "outputs": [],
   "source": [
    "df = pd.read_csv('UH_stats_aue_daytime.csv')#, converters={'groups':eval})\n"
   ]
  },
  {
   "cell_type": "code",
   "execution_count": 3,
   "id": "4d4dbf25-d357-4d58-8684-8f592ed31a13",
   "metadata": {},
   "outputs": [],
   "source": [
    "df.groups = df.groups.str.replace(\"=\",\":\")\n",
    "df.groups = df.groups.str.replace('class','\\\"class\\\"')\n",
    "df.groups = df.groups.str.replace('count','\\\"count\\\"')\n",
    "df.groups = df.groups.str.replace('mean','\\\"mean\\\"')\n",
    "df.groups = df.groups.str.replace('null','')"
   ]
  },
  {
   "cell_type": "code",
   "execution_count": 4,
   "id": "87e1d61a-cbdc-42a6-96a8-2ed1ec51773f",
   "metadata": {},
   "outputs": [],
   "source": [
    "d = ast.literal_eval(df.groups[0])"
   ]
  },
  {
   "cell_type": "code",
   "execution_count": 5,
   "id": "8238286b-ab1d-497c-82ca-81265d55d9b8",
   "metadata": {},
   "outputs": [
    {
     "data": {
      "text/plain": [
       "{'class': 0, 'mean': [0.9191316018031355], 'count': [1228059]}"
      ]
     },
     "execution_count": 5,
     "metadata": {},
     "output_type": "execute_result"
    }
   ],
   "source": [
    "d[0]"
   ]
  },
  {
   "cell_type": "code",
   "execution_count": 6,
   "id": "2d49366e-3960-413c-9345-f8c87296781b",
   "metadata": {},
   "outputs": [
    {
     "data": {
      "text/plain": [
       "0       [{\"class\":0, \"mean\":[0.9191316018031355], \"cou...\n",
       "1       [{\"class\":0, \"mean\":[], \"count\":[0]}, {\"class\"...\n",
       "2       [{\"class\":0, \"mean\":[], \"count\":[0]}, {\"class\"...\n",
       "3       [{\"class\":0, \"mean\":[1.2836140935260585], \"cou...\n",
       "4       [{\"class\":0, \"mean\":[1.312337402422446], \"coun...\n",
       "                              ...                        \n",
       "4231    [{\"class\":0, \"mean\":[0.7618322407846837], \"cou...\n",
       "4232    [{\"class\":0, \"mean\":[2.2613860654430096], \"cou...\n",
       "4233    [{\"class\":0, \"mean\":[1.1114497692702132], \"cou...\n",
       "4234    [{\"class\":0, \"mean\":[3.894447831842698], \"coun...\n",
       "4235    [{\"class\":0, \"mean\":[-0.08611058779299283], \"c...\n",
       "Name: groups, Length: 4236, dtype: object"
      ]
     },
     "execution_count": 6,
     "metadata": {},
     "output_type": "execute_result"
    }
   ],
   "source": [
    "df.groups.explode()"
   ]
  },
  {
   "cell_type": "code",
   "execution_count": 7,
   "id": "38450078-03a6-435d-9e1d-6e73755e2611",
   "metadata": {},
   "outputs": [],
   "source": [
    "def f(x):\n",
    "    try:\n",
    "        return ast.literal_eval(str(x))   \n",
    "    except Exception as e:\n",
    "        print(e)\n",
    "        return []"
   ]
  },
  {
   "cell_type": "code",
   "execution_count": 8,
   "id": "1b791bde-c429-415a-b67e-769116051568",
   "metadata": {},
   "outputs": [],
   "source": [
    "df['classes'] = df.groups.apply(lambda x: f(x))\n"
   ]
  },
  {
   "cell_type": "code",
   "execution_count": 9,
   "id": "51fc6ee3-8cd4-41a9-8670-9140ba9afb59",
   "metadata": {},
   "outputs": [
    {
     "data": {
      "text/plain": [
       "[{'class': 0, 'mean': [0.9191316018031355], 'count': [1228059]},\n",
       " {'class': 1, 'mean': [1.5028705374186562], 'count': [2641266]},\n",
       " {'class': 2, 'mean': [1.4364888900956998], 'count': [21213]},\n",
       " {'class': 3, 'mean': [1.1429941389562357], 'count': [1942]},\n",
       " {'class': 4, 'mean': [1.1106645678102556], 'count': [1350121]},\n",
       " {'class': 5, 'mean': [1.1423173638709647], 'count': [234033]}]"
      ]
     },
     "execution_count": 9,
     "metadata": {},
     "output_type": "execute_result"
    }
   ],
   "source": [
    "df.classes[0]"
   ]
  },
  {
   "cell_type": "code",
   "execution_count": 10,
   "id": "955fe7b1-7e94-4147-9fca-f9aeb43c12fe",
   "metadata": {},
   "outputs": [
    {
     "data": {
      "text/plain": [
       "1228059"
      ]
     },
     "execution_count": 10,
     "metadata": {},
     "output_type": "execute_result"
    }
   ],
   "source": [
    "df.classes[0][0]['count'][0]"
   ]
  },
  {
   "cell_type": "code",
   "execution_count": 11,
   "id": "a5994369-c663-4744-8677-ee1479f003e9",
   "metadata": {},
   "outputs": [
    {
     "data": {
      "text/plain": [
       "0       [{'class': 0, 'mean': [0.9191316018031355], 'c...\n",
       "1       [{'class': 0, 'mean': [], 'count': [0]}, {'cla...\n",
       "2       [{'class': 0, 'mean': [], 'count': [0]}, {'cla...\n",
       "3       [{'class': 0, 'mean': [1.2836140935260585], 'c...\n",
       "4       [{'class': 0, 'mean': [1.312337402422446], 'co...\n",
       "                              ...                        \n",
       "4231    [{'class': 0, 'mean': [0.7618322407846837], 'c...\n",
       "4232    [{'class': 0, 'mean': [2.2613860654430096], 'c...\n",
       "4233    [{'class': 0, 'mean': [1.1114497692702132], 'c...\n",
       "4234    [{'class': 0, 'mean': [3.894447831842698], 'co...\n",
       "4235    [{'class': 0, 'mean': [-0.08611058779299283], ...\n",
       "Name: classes, Length: 4236, dtype: object"
      ]
     },
     "execution_count": 11,
     "metadata": {},
     "output_type": "execute_result"
    }
   ],
   "source": [
    "df.classes"
   ]
  },
  {
   "cell_type": "code",
   "execution_count": null,
   "id": "106dec3e-c613-441f-98f2-819a2953f8b6",
   "metadata": {},
   "outputs": [],
   "source": []
  },
  {
   "cell_type": "code",
   "execution_count": null,
   "id": "ed7b4582-c757-4513-bfb3-2cf1060c177c",
   "metadata": {},
   "outputs": [],
   "source": [
    "df"
   ]
  },
  {
   "cell_type": "code",
   "execution_count": null,
   "id": "d4a55eb5-9acc-4cb3-b0b0-fdbd255ceb12",
   "metadata": {},
   "outputs": [],
   "source": []
  },
  {
   "cell_type": "code",
   "execution_count": null,
   "id": "7e43c5ee-4ca0-4b76-ac5a-f3c531198915",
   "metadata": {},
   "outputs": [],
   "source": []
  }
 ],
 "metadata": {
  "kernelspec": {
   "display_name": "Python 3 (ipykernel)",
   "language": "python",
   "name": "python3"
  },
  "language_info": {
   "codemirror_mode": {
    "name": "ipython",
    "version": 3
   },
   "file_extension": ".py",
   "mimetype": "text/x-python",
   "name": "python",
   "nbconvert_exporter": "python",
   "pygments_lexer": "ipython3",
   "version": "3.9.16"
  }
 },
 "nbformat": 4,
 "nbformat_minor": 5
}
