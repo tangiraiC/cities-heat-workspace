{
 "cells": [
  {
   "cell_type": "code",
   "execution_count": 1,
   "id": "9250f519",
   "metadata": {},
   "outputs": [],
   "source": [
    "import os, warnings\n",
    "warnings.simplefilter('ignore')\n",
    "\n",
    "import ee\n",
    "#ee.Authenticate()\n",
    "ee.Initialize()"
   ]
  },
  {
   "cell_type": "code",
   "execution_count": 2,
   "id": "e525f7c5",
   "metadata": {},
   "outputs": [],
   "source": [
    "#change directory\n",
    "os.chdir('../../')"
   ]
  },
  {
   "cell_type": "code",
   "execution_count": 3,
   "id": "6985190d",
   "metadata": {
    "scrolled": false
   },
   "outputs": [],
   "source": [
    "from functions import extract_ee, extract_osm, plot, operations"
   ]
  },
  {
   "cell_type": "code",
   "execution_count": 4,
   "id": "b3f8d100",
   "metadata": {},
   "outputs": [
    {
     "data": {
      "text/html": [
       "\n",
       "            <style>\n",
       "                .geemap-dark {\n",
       "                    --jp-widgets-color: white;\n",
       "                    --jp-widgets-label-color: white;\n",
       "                    --jp-ui-font-color1: white;\n",
       "                    --jp-layout-color2: #454545;\n",
       "                    background-color: #383838;\n",
       "                }\n",
       "                    \n",
       "                .geemap-dark .jupyter-button {\n",
       "                    --jp-layout-color3: #383838;\n",
       "                }\n",
       "                \n",
       "                .geemap-colab {\n",
       "                    background-color: var(--colab-primary-surface-color, white);\n",
       "                }\n",
       "                    \n",
       "                .geemap-colab .jupyter-button {\n",
       "                    --jp-layout-color3: var(--colab-primary-surface-color, white);\n",
       "                }\n",
       "            </style>\n",
       "            "
      ],
      "text/plain": [
       "<IPython.core.display.HTML object>"
      ]
     },
     "metadata": {},
     "output_type": "display_data"
    }
   ],
   "source": [
    "boundary_path = 'data/test_study_area.geojson' #part of Ahmedabad city"
   ]
  },
  {
   "cell_type": "code",
   "execution_count": 5,
   "id": "d4f9a2de",
   "metadata": {},
   "outputs": [
    {
     "data": {
      "text/html": [
       "\n",
       "            <style>\n",
       "                .geemap-dark {\n",
       "                    --jp-widgets-color: white;\n",
       "                    --jp-widgets-label-color: white;\n",
       "                    --jp-ui-font-color1: white;\n",
       "                    --jp-layout-color2: #454545;\n",
       "                    background-color: #383838;\n",
       "                }\n",
       "                    \n",
       "                .geemap-dark .jupyter-button {\n",
       "                    --jp-layout-color3: #383838;\n",
       "                }\n",
       "                \n",
       "                .geemap-colab {\n",
       "                    background-color: var(--colab-primary-surface-color, white);\n",
       "                }\n",
       "                    \n",
       "                .geemap-colab .jupyter-button {\n",
       "                    --jp-layout-color3: var(--colab-primary-surface-color, white);\n",
       "                }\n",
       "            </style>\n",
       "            "
      ],
      "text/plain": [
       "<IPython.core.display.HTML object>"
      ]
     },
     "metadata": {},
     "output_type": "display_data"
    }
   ],
   "source": [
    "# last major heat wave event in India\n",
    "start_date = '2019-05-01'\n",
    "end_date = '2019-07-01'"
   ]
  },
  {
   "cell_type": "code",
   "execution_count": 6,
   "id": "6962265d",
   "metadata": {},
   "outputs": [
    {
     "data": {
      "text/html": [
       "\n",
       "            <style>\n",
       "                .geemap-dark {\n",
       "                    --jp-widgets-color: white;\n",
       "                    --jp-widgets-label-color: white;\n",
       "                    --jp-ui-font-color1: white;\n",
       "                    --jp-layout-color2: #454545;\n",
       "                    background-color: #383838;\n",
       "                }\n",
       "                    \n",
       "                .geemap-dark .jupyter-button {\n",
       "                    --jp-layout-color3: #383838;\n",
       "                }\n",
       "                \n",
       "                .geemap-colab {\n",
       "                    background-color: var(--colab-primary-surface-color, white);\n",
       "                }\n",
       "                    \n",
       "                .geemap-colab .jupyter-button {\n",
       "                    --jp-layout-color3: var(--colab-primary-surface-color, white);\n",
       "                }\n",
       "            </style>\n",
       "            "
      ],
      "text/plain": [
       "<IPython.core.display.HTML object>"
      ]
     },
     "metadata": {},
     "output_type": "display_data"
    },
    {
     "data": {
      "application/vnd.jupyter.widget-view+json": {
       "model_id": "310c28ace12b4d60b4403ccc8a67f32c",
       "version_major": 2,
       "version_minor": 0
      },
      "text/plain": [
       "Downloading:   0%|          | 0.00/28.5k [00:00<?, ?iB/s]"
      ]
     },
     "metadata": {},
     "output_type": "display_data"
    }
   ],
   "source": [
    "#extract L8 LST\n",
    "l8_lst = extract_ee.extract_landsat8_lst(boundary_path, start_date, end_date)\n",
    "\n",
    "#convert ee to xarray\n",
    "l8_lst_xr = extract_ee.convert_ee_to_xarray(l8_lst, boundary_path, start_date, scale=30)\n",
    "\n",
    "#save xarray dataset as TIFF file\n",
    "l8_lst_xr.rio.to_raster('data/test_l8_lst.tiff')"
   ]
  },
  {
   "cell_type": "code",
   "execution_count": 7,
   "id": "ab46b351",
   "metadata": {},
   "outputs": [
    {
     "data": {
      "text/html": [
       "\n",
       "            <style>\n",
       "                .geemap-dark {\n",
       "                    --jp-widgets-color: white;\n",
       "                    --jp-widgets-label-color: white;\n",
       "                    --jp-ui-font-color1: white;\n",
       "                    --jp-layout-color2: #454545;\n",
       "                    background-color: #383838;\n",
       "                }\n",
       "                    \n",
       "                .geemap-dark .jupyter-button {\n",
       "                    --jp-layout-color3: #383838;\n",
       "                }\n",
       "                \n",
       "                .geemap-colab {\n",
       "                    background-color: var(--colab-primary-surface-color, white);\n",
       "                }\n",
       "                    \n",
       "                .geemap-colab .jupyter-button {\n",
       "                    --jp-layout-color3: var(--colab-primary-surface-color, white);\n",
       "                }\n",
       "            </style>\n",
       "            "
      ],
      "text/plain": [
       "<IPython.core.display.HTML object>"
      ]
     },
     "metadata": {},
     "output_type": "display_data"
    }
   ],
   "source": [
    "#extract MODIS Terra LST\n",
    "modis_lst_day, modis_lst_night = extract_ee.extract_modisterralst(boundary_path, start_date, end_date)"
   ]
  },
  {
   "cell_type": "code",
   "execution_count": 8,
   "id": "4f7bff79",
   "metadata": {},
   "outputs": [
    {
     "data": {
      "text/html": [
       "\n",
       "            <style>\n",
       "                .geemap-dark {\n",
       "                    --jp-widgets-color: white;\n",
       "                    --jp-widgets-label-color: white;\n",
       "                    --jp-ui-font-color1: white;\n",
       "                    --jp-layout-color2: #454545;\n",
       "                    background-color: #383838;\n",
       "                }\n",
       "                    \n",
       "                .geemap-dark .jupyter-button {\n",
       "                    --jp-layout-color3: #383838;\n",
       "                }\n",
       "                \n",
       "                .geemap-colab {\n",
       "                    background-color: var(--colab-primary-surface-color, white);\n",
       "                }\n",
       "                    \n",
       "                .geemap-colab .jupyter-button {\n",
       "                    --jp-layout-color3: var(--colab-primary-surface-color, white);\n",
       "                }\n",
       "            </style>\n",
       "            "
      ],
      "text/plain": [
       "<IPython.core.display.HTML object>"
      ]
     },
     "metadata": {},
     "output_type": "display_data"
    }
   ],
   "source": [
    "#extract parks and non-park area from OSM\n",
    "park, non_park = extract_osm.extract_osm_parks(boundary_path)\n",
    "\n",
    "#save park and non-park as geojson\n",
    "park.to_file('data/test_park.geojson')\n",
    "park.dissolve().to_file('data/test_park_dissolve.geojson')\n",
    "non_park.to_file('data/test_non_park.geojson')"
   ]
  },
  {
   "cell_type": "code",
   "execution_count": 9,
   "id": "d7ab1522",
   "metadata": {},
   "outputs": [
    {
     "data": {
      "text/html": [
       "\n",
       "            <style>\n",
       "                .geemap-dark {\n",
       "                    --jp-widgets-color: white;\n",
       "                    --jp-widgets-label-color: white;\n",
       "                    --jp-ui-font-color1: white;\n",
       "                    --jp-layout-color2: #454545;\n",
       "                    background-color: #383838;\n",
       "                }\n",
       "                    \n",
       "                .geemap-dark .jupyter-button {\n",
       "                    --jp-layout-color3: #383838;\n",
       "                }\n",
       "                \n",
       "                .geemap-colab {\n",
       "                    background-color: var(--colab-primary-surface-color, white);\n",
       "                }\n",
       "                    \n",
       "                .geemap-colab .jupyter-button {\n",
       "                    --jp-layout-color3: var(--colab-primary-surface-color, white);\n",
       "                }\n",
       "            </style>\n",
       "            "
      ],
      "text/plain": [
       "<IPython.core.display.HTML object>"
      ]
     },
     "metadata": {},
     "output_type": "display_data"
    },
    {
     "name": "stderr",
     "output_type": "stream",
     "text": [
      "C:\\Users\\Vinamra.Bharadwaj\\anaconda3\\envs\\py310\\lib\\site-packages\\geopandas\\geodataframe.py:1543: SettingWithCopyWarning: \n",
      "A value is trying to be set on a copy of a slice from a DataFrame.\n",
      "Try using .loc[row_indexer,col_indexer] = value instead\n",
      "\n",
      "See the caveats in the documentation: https://pandas.pydata.org/pandas-docs/stable/user_guide/indexing.html#returning-a-view-versus-a-copy\n",
      "  super().__setitem__(key, value)\n",
      "C:\\Users\\Vinamra.Bharadwaj\\anaconda3\\envs\\py310\\lib\\site-packages\\geopandas\\geodataframe.py:1543: SettingWithCopyWarning: \n",
      "A value is trying to be set on a copy of a slice from a DataFrame.\n",
      "Try using .loc[row_indexer,col_indexer] = value instead\n",
      "\n",
      "See the caveats in the documentation: https://pandas.pydata.org/pandas-docs/stable/user_guide/indexing.html#returning-a-view-versus-a-copy\n",
      "  super().__setitem__(key, value)\n"
     ]
    }
   ],
   "source": [
    "#calculate zonal stats of parks\n",
    "park_zs = operations.calculate_zonalstats('data/test_park.geojson', 'data/test_l8_lst.tiff')\n",
    "park_all_zs = operations.calculate_zonalstats('data/test_park_dissolve.geojson', 'data/test_l8_lst.tiff')\n",
    "non_park_zs = operations.calculate_zonalstats('data/test_non_park.geojson', 'data/test_l8_lst.tiff')"
   ]
  },
  {
   "cell_type": "code",
   "execution_count": 10,
   "id": "5ea6b1d3",
   "metadata": {
    "scrolled": true
   },
   "outputs": [
    {
     "data": {
      "text/html": [
       "\n",
       "            <style>\n",
       "                .geemap-dark {\n",
       "                    --jp-widgets-color: white;\n",
       "                    --jp-widgets-label-color: white;\n",
       "                    --jp-ui-font-color1: white;\n",
       "                    --jp-layout-color2: #454545;\n",
       "                    background-color: #383838;\n",
       "                }\n",
       "                    \n",
       "                .geemap-dark .jupyter-button {\n",
       "                    --jp-layout-color3: #383838;\n",
       "                }\n",
       "                \n",
       "                .geemap-colab {\n",
       "                    background-color: var(--colab-primary-surface-color, white);\n",
       "                }\n",
       "                    \n",
       "                .geemap-colab .jupyter-button {\n",
       "                    --jp-layout-color3: var(--colab-primary-surface-color, white);\n",
       "                }\n",
       "            </style>\n",
       "            "
      ],
      "text/plain": [
       "<IPython.core.display.HTML object>"
      ]
     },
     "metadata": {},
     "output_type": "display_data"
    },
    {
     "data": {
      "text/html": [
       "<div>\n",
       "<style scoped>\n",
       "    .dataframe tbody tr th:only-of-type {\n",
       "        vertical-align: middle;\n",
       "    }\n",
       "\n",
       "    .dataframe tbody tr th {\n",
       "        vertical-align: top;\n",
       "    }\n",
       "\n",
       "    .dataframe thead th {\n",
       "        text-align: right;\n",
       "    }\n",
       "</style>\n",
       "<table border=\"1\" class=\"dataframe\">\n",
       "  <thead>\n",
       "    <tr style=\"text-align: right;\">\n",
       "      <th></th>\n",
       "      <th>index</th>\n",
       "      <th>osmid</th>\n",
       "      <th>name</th>\n",
       "      <th>geometry</th>\n",
       "      <th>mean</th>\n",
       "      <th>max</th>\n",
       "      <th>min</th>\n",
       "      <th>sum</th>\n",
       "      <th>std</th>\n",
       "      <th>var</th>\n",
       "      <th>count</th>\n",
       "    </tr>\n",
       "  </thead>\n",
       "  <tbody>\n",
       "    <tr>\n",
       "      <th>0</th>\n",
       "      <td>1</td>\n",
       "      <td>317787177</td>\n",
       "      <td>Bansidhar Garden</td>\n",
       "      <td>POLYGON ((72.55380 23.00042, 72.55427 22.99949...</td>\n",
       "      <td>44.226569</td>\n",
       "      <td>44.607764</td>\n",
       "      <td>43.961608</td>\n",
       "      <td>707.625111</td>\n",
       "      <td>0.183955</td>\n",
       "      <td>0.033840</td>\n",
       "      <td>16.0</td>\n",
       "    </tr>\n",
       "    <tr>\n",
       "      <th>1</th>\n",
       "      <td>2</td>\n",
       "      <td>330926672</td>\n",
       "      <td>Sukhipura Park</td>\n",
       "      <td>POLYGON ((72.55105 23.01289, 72.55214 23.01288...</td>\n",
       "      <td>42.284941</td>\n",
       "      <td>45.079624</td>\n",
       "      <td>33.142887</td>\n",
       "      <td>591.989173</td>\n",
       "      <td>4.766433</td>\n",
       "      <td>22.718887</td>\n",
       "      <td>14.0</td>\n",
       "    </tr>\n",
       "    <tr>\n",
       "      <th>2</th>\n",
       "      <td>3</td>\n",
       "      <td>367427547</td>\n",
       "      <td>None</td>\n",
       "      <td>POLYGON ((72.54506 23.00341, 72.54607 23.00384...</td>\n",
       "      <td>38.072893</td>\n",
       "      <td>38.479505</td>\n",
       "      <td>37.683413</td>\n",
       "      <td>342.656034</td>\n",
       "      <td>0.231781</td>\n",
       "      <td>0.053723</td>\n",
       "      <td>9.0</td>\n",
       "    </tr>\n",
       "    <tr>\n",
       "      <th>3</th>\n",
       "      <td>4</td>\n",
       "      <td>472446481</td>\n",
       "      <td>Malav Talav</td>\n",
       "      <td>POLYGON ((72.53899 23.00754, 72.53899 23.00732...</td>\n",
       "      <td>43.610548</td>\n",
       "      <td>46.164634</td>\n",
       "      <td>34.640376</td>\n",
       "      <td>1395.537543</td>\n",
       "      <td>3.618193</td>\n",
       "      <td>13.091321</td>\n",
       "      <td>32.0</td>\n",
       "    </tr>\n",
       "    <tr>\n",
       "      <th>4</th>\n",
       "      <td>5</td>\n",
       "      <td>1008895292</td>\n",
       "      <td>Dhanvantari Garden</td>\n",
       "      <td>POLYGON ((72.55857 23.00371, 72.55971 23.00418...</td>\n",
       "      <td>44.284093</td>\n",
       "      <td>44.632129</td>\n",
       "      <td>44.127516</td>\n",
       "      <td>487.125028</td>\n",
       "      <td>0.147618</td>\n",
       "      <td>0.021791</td>\n",
       "      <td>11.0</td>\n",
       "    </tr>\n",
       "    <tr>\n",
       "      <th>5</th>\n",
       "      <td>6</td>\n",
       "      <td>1019202194</td>\n",
       "      <td>Harenbhai Viththalbhai Pandya Udhyan</td>\n",
       "      <td>POLYGON ((72.54413 23.00829, 72.54410 23.00839...</td>\n",
       "      <td>37.912986</td>\n",
       "      <td>38.206448</td>\n",
       "      <td>37.717876</td>\n",
       "      <td>341.216877</td>\n",
       "      <td>0.157600</td>\n",
       "      <td>0.024838</td>\n",
       "      <td>9.0</td>\n",
       "    </tr>\n",
       "    <tr>\n",
       "      <th>6</th>\n",
       "      <td>7</td>\n",
       "      <td>1019202197</td>\n",
       "      <td>Shardanagar Park</td>\n",
       "      <td>POLYGON ((72.55026 23.01033, 72.55045 23.01037...</td>\n",
       "      <td>44.884286</td>\n",
       "      <td>44.884286</td>\n",
       "      <td>44.884286</td>\n",
       "      <td>44.884286</td>\n",
       "      <td>0.000000</td>\n",
       "      <td>0.000000</td>\n",
       "      <td>1.0</td>\n",
       "    </tr>\n",
       "    <tr>\n",
       "      <th>7</th>\n",
       "      <td>8</td>\n",
       "      <td>1019202205</td>\n",
       "      <td>Popatlal Chhotalal Dani Udhyan</td>\n",
       "      <td>POLYGON ((72.54272 23.01194, 72.54272 23.01195...</td>\n",
       "      <td>37.819616</td>\n",
       "      <td>37.925949</td>\n",
       "      <td>37.709532</td>\n",
       "      <td>113.458849</td>\n",
       "      <td>0.088392</td>\n",
       "      <td>0.007813</td>\n",
       "      <td>3.0</td>\n",
       "    </tr>\n",
       "    <tr>\n",
       "      <th>8</th>\n",
       "      <td>9</td>\n",
       "      <td>1199739136</td>\n",
       "      <td>Senior Citizen Park</td>\n",
       "      <td>POLYGON ((72.54716 23.00745, 72.54764 23.00764...</td>\n",
       "      <td>39.277323</td>\n",
       "      <td>44.758786</td>\n",
       "      <td>37.255378</td>\n",
       "      <td>157.109291</td>\n",
       "      <td>3.166986</td>\n",
       "      <td>10.029799</td>\n",
       "      <td>4.0</td>\n",
       "    </tr>\n",
       "  </tbody>\n",
       "</table>\n",
       "</div>"
      ],
      "text/plain": [
       "   index       osmid                                  name  \\\n",
       "0      1   317787177                      Bansidhar Garden   \n",
       "1      2   330926672                        Sukhipura Park   \n",
       "2      3   367427547                                  None   \n",
       "3      4   472446481                           Malav Talav   \n",
       "4      5  1008895292                    Dhanvantari Garden   \n",
       "5      6  1019202194  Harenbhai Viththalbhai Pandya Udhyan   \n",
       "6      7  1019202197                      Shardanagar Park   \n",
       "7      8  1019202205        Popatlal Chhotalal Dani Udhyan   \n",
       "8      9  1199739136                   Senior Citizen Park   \n",
       "\n",
       "                                            geometry       mean        max  \\\n",
       "0  POLYGON ((72.55380 23.00042, 72.55427 22.99949...  44.226569  44.607764   \n",
       "1  POLYGON ((72.55105 23.01289, 72.55214 23.01288...  42.284941  45.079624   \n",
       "2  POLYGON ((72.54506 23.00341, 72.54607 23.00384...  38.072893  38.479505   \n",
       "3  POLYGON ((72.53899 23.00754, 72.53899 23.00732...  43.610548  46.164634   \n",
       "4  POLYGON ((72.55857 23.00371, 72.55971 23.00418...  44.284093  44.632129   \n",
       "5  POLYGON ((72.54413 23.00829, 72.54410 23.00839...  37.912986  38.206448   \n",
       "6  POLYGON ((72.55026 23.01033, 72.55045 23.01037...  44.884286  44.884286   \n",
       "7  POLYGON ((72.54272 23.01194, 72.54272 23.01195...  37.819616  37.925949   \n",
       "8  POLYGON ((72.54716 23.00745, 72.54764 23.00764...  39.277323  44.758786   \n",
       "\n",
       "         min          sum       std        var  count  \n",
       "0  43.961608   707.625111  0.183955   0.033840   16.0  \n",
       "1  33.142887   591.989173  4.766433  22.718887   14.0  \n",
       "2  37.683413   342.656034  0.231781   0.053723    9.0  \n",
       "3  34.640376  1395.537543  3.618193  13.091321   32.0  \n",
       "4  44.127516   487.125028  0.147618   0.021791   11.0  \n",
       "5  37.717876   341.216877  0.157600   0.024838    9.0  \n",
       "6  44.884286    44.884286  0.000000   0.000000    1.0  \n",
       "7  37.709532   113.458849  0.088392   0.007813    3.0  \n",
       "8  37.255378   157.109291  3.166986  10.029799    4.0  "
      ]
     },
     "execution_count": 10,
     "metadata": {},
     "output_type": "execute_result"
    }
   ],
   "source": [
    "park_zs"
   ]
  },
  {
   "cell_type": "code",
   "execution_count": 11,
   "id": "da5ef3af",
   "metadata": {},
   "outputs": [
    {
     "data": {
      "text/html": [
       "\n",
       "            <style>\n",
       "                .geemap-dark {\n",
       "                    --jp-widgets-color: white;\n",
       "                    --jp-widgets-label-color: white;\n",
       "                    --jp-ui-font-color1: white;\n",
       "                    --jp-layout-color2: #454545;\n",
       "                    background-color: #383838;\n",
       "                }\n",
       "                    \n",
       "                .geemap-dark .jupyter-button {\n",
       "                    --jp-layout-color3: #383838;\n",
       "                }\n",
       "                \n",
       "                .geemap-colab {\n",
       "                    background-color: var(--colab-primary-surface-color, white);\n",
       "                }\n",
       "                    \n",
       "                .geemap-colab .jupyter-button {\n",
       "                    --jp-layout-color3: var(--colab-primary-surface-color, white);\n",
       "                }\n",
       "            </style>\n",
       "            "
      ],
      "text/plain": [
       "<IPython.core.display.HTML object>"
      ]
     },
     "metadata": {},
     "output_type": "display_data"
    },
    {
     "data": {
      "text/html": [
       "<div>\n",
       "<style scoped>\n",
       "    .dataframe tbody tr th:only-of-type {\n",
       "        vertical-align: middle;\n",
       "    }\n",
       "\n",
       "    .dataframe tbody tr th {\n",
       "        vertical-align: top;\n",
       "    }\n",
       "\n",
       "    .dataframe thead th {\n",
       "        text-align: right;\n",
       "    }\n",
       "</style>\n",
       "<table border=\"1\" class=\"dataframe\">\n",
       "  <thead>\n",
       "    <tr style=\"text-align: right;\">\n",
       "      <th></th>\n",
       "      <th>index</th>\n",
       "      <th>osmid</th>\n",
       "      <th>name</th>\n",
       "      <th>geometry</th>\n",
       "      <th>mean</th>\n",
       "      <th>max</th>\n",
       "      <th>min</th>\n",
       "      <th>sum</th>\n",
       "      <th>std</th>\n",
       "      <th>var</th>\n",
       "      <th>count</th>\n",
       "    </tr>\n",
       "  </thead>\n",
       "  <tbody>\n",
       "    <tr>\n",
       "      <th>0</th>\n",
       "      <td>1</td>\n",
       "      <td>317787177</td>\n",
       "      <td>Bansidhar Garden</td>\n",
       "      <td>MULTIPOLYGON (((72.55427 22.99949, 72.55380 23...</td>\n",
       "      <td>42.238406</td>\n",
       "      <td>46.164634</td>\n",
       "      <td>33.142887</td>\n",
       "      <td>4181.602191</td>\n",
       "      <td>3.724572</td>\n",
       "      <td>13.872436</td>\n",
       "      <td>99.0</td>\n",
       "    </tr>\n",
       "  </tbody>\n",
       "</table>\n",
       "</div>"
      ],
      "text/plain": [
       "   index      osmid              name  \\\n",
       "0      1  317787177  Bansidhar Garden   \n",
       "\n",
       "                                            geometry       mean        max  \\\n",
       "0  MULTIPOLYGON (((72.55427 22.99949, 72.55380 23...  42.238406  46.164634   \n",
       "\n",
       "         min          sum       std        var  count  \n",
       "0  33.142887  4181.602191  3.724572  13.872436   99.0  "
      ]
     },
     "execution_count": 11,
     "metadata": {},
     "output_type": "execute_result"
    }
   ],
   "source": [
    "park_all_zs"
   ]
  },
  {
   "cell_type": "code",
   "execution_count": 12,
   "id": "ff2b6ea7",
   "metadata": {},
   "outputs": [
    {
     "data": {
      "text/html": [
       "\n",
       "            <style>\n",
       "                .geemap-dark {\n",
       "                    --jp-widgets-color: white;\n",
       "                    --jp-widgets-label-color: white;\n",
       "                    --jp-ui-font-color1: white;\n",
       "                    --jp-layout-color2: #454545;\n",
       "                    background-color: #383838;\n",
       "                }\n",
       "                    \n",
       "                .geemap-dark .jupyter-button {\n",
       "                    --jp-layout-color3: #383838;\n",
       "                }\n",
       "                \n",
       "                .geemap-colab {\n",
       "                    background-color: var(--colab-primary-surface-color, white);\n",
       "                }\n",
       "                    \n",
       "                .geemap-colab .jupyter-button {\n",
       "                    --jp-layout-color3: var(--colab-primary-surface-color, white);\n",
       "                }\n",
       "            </style>\n",
       "            "
      ],
      "text/plain": [
       "<IPython.core.display.HTML object>"
      ]
     },
     "metadata": {},
     "output_type": "display_data"
    },
    {
     "data": {
      "text/html": [
       "<div>\n",
       "<style scoped>\n",
       "    .dataframe tbody tr th:only-of-type {\n",
       "        vertical-align: middle;\n",
       "    }\n",
       "\n",
       "    .dataframe tbody tr th {\n",
       "        vertical-align: top;\n",
       "    }\n",
       "\n",
       "    .dataframe thead th {\n",
       "        text-align: right;\n",
       "    }\n",
       "</style>\n",
       "<table border=\"1\" class=\"dataframe\">\n",
       "  <thead>\n",
       "    <tr style=\"text-align: right;\">\n",
       "      <th></th>\n",
       "      <th>index</th>\n",
       "      <th>geometry</th>\n",
       "      <th>mean</th>\n",
       "      <th>max</th>\n",
       "      <th>min</th>\n",
       "      <th>sum</th>\n",
       "      <th>std</th>\n",
       "      <th>var</th>\n",
       "      <th>count</th>\n",
       "    </tr>\n",
       "  </thead>\n",
       "  <tbody>\n",
       "    <tr>\n",
       "      <th>0</th>\n",
       "      <td>1</td>\n",
       "      <td>POLYGON ((72.53858 22.99949, 72.53858 23.00709...</td>\n",
       "      <td>44.848854</td>\n",
       "      <td>52.652457</td>\n",
       "      <td>31.625863</td>\n",
       "      <td>172712.937395</td>\n",
       "      <td>2.89226</td>\n",
       "      <td>8.365169</td>\n",
       "      <td>3851.0</td>\n",
       "    </tr>\n",
       "  </tbody>\n",
       "</table>\n",
       "</div>"
      ],
      "text/plain": [
       "   index                                           geometry       mean  \\\n",
       "0      1  POLYGON ((72.53858 22.99949, 72.53858 23.00709...  44.848854   \n",
       "\n",
       "         max        min            sum      std       var   count  \n",
       "0  52.652457  31.625863  172712.937395  2.89226  8.365169  3851.0  "
      ]
     },
     "execution_count": 12,
     "metadata": {},
     "output_type": "execute_result"
    }
   ],
   "source": [
    "non_park_zs"
   ]
  },
  {
   "cell_type": "code",
   "execution_count": 13,
   "id": "0870af8e",
   "metadata": {},
   "outputs": [
    {
     "data": {
      "text/html": [
       "\n",
       "            <style>\n",
       "                .geemap-dark {\n",
       "                    --jp-widgets-color: white;\n",
       "                    --jp-widgets-label-color: white;\n",
       "                    --jp-ui-font-color1: white;\n",
       "                    --jp-layout-color2: #454545;\n",
       "                    background-color: #383838;\n",
       "                }\n",
       "                    \n",
       "                .geemap-dark .jupyter-button {\n",
       "                    --jp-layout-color3: #383838;\n",
       "                }\n",
       "                \n",
       "                .geemap-colab {\n",
       "                    background-color: var(--colab-primary-surface-color, white);\n",
       "                }\n",
       "                    \n",
       "                .geemap-colab .jupyter-button {\n",
       "                    --jp-layout-color3: var(--colab-primary-surface-color, white);\n",
       "                }\n",
       "            </style>\n",
       "            "
      ],
      "text/plain": [
       "<IPython.core.display.HTML object>"
      ]
     },
     "metadata": {},
     "output_type": "display_data"
    },
    {
     "name": "stderr",
     "output_type": "stream",
     "text": [
      "C:\\Users\\Vinamra.Bharadwaj\\anaconda3\\envs\\py310\\lib\\site-packages\\geopandas\\geodataframe.py:1543: SettingWithCopyWarning: \n",
      "A value is trying to be set on a copy of a slice from a DataFrame.\n",
      "Try using .loc[row_indexer,col_indexer] = value instead\n",
      "\n",
      "See the caveats in the documentation: https://pandas.pydata.org/pandas-docs/stable/user_guide/indexing.html#returning-a-view-versus-a-copy\n",
      "  super().__setitem__(key, value)\n"
     ]
    },
    {
     "data": {
      "image/png": "[encoded data removed]",
      "text/plain": [
       "<Figure size 640x480 with 1 Axes>"
      ]
     },
     "metadata": {},
     "output_type": "display_data"
    }
   ],
   "source": [
    "park_bp = plot.plot_boxplot('data/test_park.geojson', 'data/test_l8_lst.tiff')"
   ]
  },
  {
   "cell_type": "code",
   "execution_count": 14,
   "id": "81091c8e",
   "metadata": {},
   "outputs": [
    {
     "data": {
      "text/html": [
       "\n",
       "            <style>\n",
       "                .geemap-dark {\n",
       "                    --jp-widgets-color: white;\n",
       "                    --jp-widgets-label-color: white;\n",
       "                    --jp-ui-font-color1: white;\n",
       "                    --jp-layout-color2: #454545;\n",
       "                    background-color: #383838;\n",
       "                }\n",
       "                    \n",
       "                .geemap-dark .jupyter-button {\n",
       "                    --jp-layout-color3: #383838;\n",
       "                }\n",
       "                \n",
       "                .geemap-colab {\n",
       "                    background-color: var(--colab-primary-surface-color, white);\n",
       "                }\n",
       "                    \n",
       "                .geemap-colab .jupyter-button {\n",
       "                    --jp-layout-color3: var(--colab-primary-surface-color, white);\n",
       "                }\n",
       "            </style>\n",
       "            "
      ],
      "text/plain": [
       "<IPython.core.display.HTML object>"
      ]
     },
     "metadata": {},
     "output_type": "display_data"
    },
    {
     "name": "stderr",
     "output_type": "stream",
     "text": [
      "C:\\Users\\Vinamra.Bharadwaj\\anaconda3\\envs\\py310\\lib\\site-packages\\geopandas\\geodataframe.py:1543: SettingWithCopyWarning: \n",
      "A value is trying to be set on a copy of a slice from a DataFrame.\n",
      "Try using .loc[row_indexer,col_indexer] = value instead\n",
      "\n",
      "See the caveats in the documentation: https://pandas.pydata.org/pandas-docs/stable/user_guide/indexing.html#returning-a-view-versus-a-copy\n",
      "  super().__setitem__(key, value)\n"
     ]
    },
    {
     "data": {
      "image/png": "[encoded data removed]",
      "text/plain": [
       "<Figure size 640x480 with 1 Axes>"
      ]
     },
     "metadata": {},
     "output_type": "display_data"
    }
   ],
   "source": [
    "allpark_bp = plot.plot_boxplot('data/test_park_dissolve.geojson', 'data/test_l8_lst.tiff')"
   ]
  },
  {
   "cell_type": "code",
   "execution_count": 15,
   "id": "8f918b1f",
   "metadata": {},
   "outputs": [
    {
     "data": {
      "text/html": [
       "\n",
       "            <style>\n",
       "                .geemap-dark {\n",
       "                    --jp-widgets-color: white;\n",
       "                    --jp-widgets-label-color: white;\n",
       "                    --jp-ui-font-color1: white;\n",
       "                    --jp-layout-color2: #454545;\n",
       "                    background-color: #383838;\n",
       "                }\n",
       "                    \n",
       "                .geemap-dark .jupyter-button {\n",
       "                    --jp-layout-color3: #383838;\n",
       "                }\n",
       "                \n",
       "                .geemap-colab {\n",
       "                    background-color: var(--colab-primary-surface-color, white);\n",
       "                }\n",
       "                    \n",
       "                .geemap-colab .jupyter-button {\n",
       "                    --jp-layout-color3: var(--colab-primary-surface-color, white);\n",
       "                }\n",
       "            </style>\n",
       "            "
      ],
      "text/plain": [
       "<IPython.core.display.HTML object>"
      ]
     },
     "metadata": {},
     "output_type": "display_data"
    },
    {
     "data": {
      "image/png": "[encoded data removed]",
      "text/plain": [
       "<Figure size 640x480 with 1 Axes>"
      ]
     },
     "metadata": {},
     "output_type": "display_data"
    }
   ],
   "source": [
    "nonpark_bp = plot.plot_boxplot('data/test_non_park.geojson', 'data/test_l8_lst.tiff')"
   ]
  },
  {
   "cell_type": "code",
   "execution_count": 16,
   "id": "a4befec0",
   "metadata": {},
   "outputs": [
    {
     "data": {
      "text/html": [
       "\n",
       "            <style>\n",
       "                .geemap-dark {\n",
       "                    --jp-widgets-color: white;\n",
       "                    --jp-widgets-label-color: white;\n",
       "                    --jp-ui-font-color1: white;\n",
       "                    --jp-layout-color2: #454545;\n",
       "                    background-color: #383838;\n",
       "                }\n",
       "                    \n",
       "                .geemap-dark .jupyter-button {\n",
       "                    --jp-layout-color3: #383838;\n",
       "                }\n",
       "                \n",
       "                .geemap-colab {\n",
       "                    background-color: var(--colab-primary-surface-color, white);\n",
       "                }\n",
       "                    \n",
       "                .geemap-colab .jupyter-button {\n",
       "                    --jp-layout-color3: var(--colab-primary-surface-color, white);\n",
       "                }\n",
       "            </style>\n",
       "            "
      ],
      "text/plain": [
       "<IPython.core.display.HTML object>"
      ]
     },
     "metadata": {},
     "output_type": "display_data"
    },
    {
     "data": {
      "application/vnd.jupyter.widget-view+json": {
       "model_id": "34faa4e4401a47c681b912742c10b182",
       "version_major": 2,
       "version_minor": 0
      },
      "text/plain": [
       "Map(center=[0, 0], controls=(WidgetControl(options=['position', 'transparent_bg'], widget=SearchDataGUI(childr…"
      ]
     },
     "execution_count": 16,
     "metadata": {},
     "output_type": "execute_result"
    }
   ],
   "source": [
    "plot.plot_ee_image(l8_lst, boundary_path, [31, 52], ['blue', 'white', 'red'], display_name='L8_LST')"
   ]
  },
  {
   "cell_type": "code",
   "execution_count": 17,
   "id": "75b3f805",
   "metadata": {},
   "outputs": [
    {
     "data": {
      "text/html": [
       "\n",
       "            <style>\n",
       "                .geemap-dark {\n",
       "                    --jp-widgets-color: white;\n",
       "                    --jp-widgets-label-color: white;\n",
       "                    --jp-ui-font-color1: white;\n",
       "                    --jp-layout-color2: #454545;\n",
       "                    background-color: #383838;\n",
       "                }\n",
       "                    \n",
       "                .geemap-dark .jupyter-button {\n",
       "                    --jp-layout-color3: #383838;\n",
       "                }\n",
       "                \n",
       "                .geemap-colab {\n",
       "                    background-color: var(--colab-primary-surface-color, white);\n",
       "                }\n",
       "                    \n",
       "                .geemap-colab .jupyter-button {\n",
       "                    --jp-layout-color3: var(--colab-primary-surface-color, white);\n",
       "                }\n",
       "            </style>\n",
       "            "
      ],
      "text/plain": [
       "<IPython.core.display.HTML object>"
      ]
     },
     "metadata": {},
     "output_type": "display_data"
    },
    {
     "data": {
      "application/vnd.jupyter.widget-view+json": {
       "model_id": "56776e11afda428cbf96e49383692942",
       "version_major": 2,
       "version_minor": 0
      },
      "text/plain": [
       "Map(center=[23.006067069824713, 72.54731946382225], controls=(ZoomControl(options=['position', 'zoom_in_text',…"
      ]
     },
     "execution_count": 17,
     "metadata": {},
     "output_type": "execute_result"
    }
   ],
   "source": [
    "plot.plot_ee_fc('data/test_park.geojson', zoom = 15, display_name='parks')"
   ]
  },
  {
   "cell_type": "code",
   "execution_count": null,
   "id": "7fa0d17d",
   "metadata": {},
   "outputs": [],
   "source": []
  }
 ],
 "metadata": {
  "kernelspec": {
   "display_name": "Python 3 (ipykernel)",
   "language": "python",
   "name": "python3"
  },
  "language_info": {
   "codemirror_mode": {
    "name": "ipython",
    "version": 3
   },
   "file_extension": ".py",
   "mimetype": "text/x-python",
   "name": "python",
   "nbconvert_exporter": "python",
   "pygments_lexer": "ipython3",
   "version": "3.10.13"
  }
 },
 "nbformat": 4,
 "nbformat_minor": 5
}
