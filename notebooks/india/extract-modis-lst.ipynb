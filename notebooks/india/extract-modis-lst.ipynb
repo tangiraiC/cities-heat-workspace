{
 "cells": [
  {
   "cell_type": "code",
   "execution_count": 1,
   "id": "8875c0ec",
   "metadata": {},
   "outputs": [],
   "source": [
    "import os, warnings\n",
    "warnings.simplefilter('ignore')\n",
    "import ipyleaflet\n",
    "import time\n",
    "\n",
    "\n",
    "import ee\n",
    "ee.Initialize()\n",
    "import geemap\n",
    "\n",
    "\n",
    "import requests\n",
    "import boto3\n",
    "from google.cloud import storage\n",
    "\n",
    "import pandas as pd\n",
    "import numpy as np\n",
    "import rasterio\n",
    "import geopandas as gpd\n",
    "import glob"
   ]
  },
  {
   "cell_type": "code",
   "execution_count": 2,
   "id": "94b6a8b4",
   "metadata": {},
   "outputs": [
    {
     "data": {
      "text/html": [
       "\n",
       "            <style>\n",
       "                .geemap-dark {\n",
       "                    --jp-widgets-color: white;\n",
       "                    --jp-widgets-label-color: white;\n",
       "                    --jp-ui-font-color1: white;\n",
       "                    --jp-layout-color2: #454545;\n",
       "                    background-color: #383838;\n",
       "                }\n",
       "                    \n",
       "                .geemap-dark .jupyter-button {\n",
       "                    --jp-layout-color3: #383838;\n",
       "                }\n",
       "                \n",
       "                .geemap-colab {\n",
       "                    background-color: var(--colab-primary-surface-color, white);\n",
       "                }\n",
       "                    \n",
       "                .geemap-colab .jupyter-button {\n",
       "                    --jp-layout-color3: var(--colab-primary-surface-color, white);\n",
       "                }\n",
       "            </style>\n",
       "            "
      ],
      "text/plain": [
       "<IPython.core.display.HTML object>"
      ]
     },
     "metadata": {},
     "output_type": "display_data"
    }
   ],
   "source": [
    "def extract_gee_data(product_path, band_name, band_scale, band_offset, boundary_path, start_date, end_date, reducer = 'mean'):\n",
    "    \n",
    "    '''\n",
    "    product_path: Link to GEE product\n",
    "    band_name: Name of required band as mentioned in GEE product\n",
    "    band_scale: Scale factor for the selected band as mentioned in GEE or as per requirement\n",
    "    band_offset: Offset factor for the selected band as mentioned in GEE or as per requirement\n",
    "    boundary_path: Path to geojson of area of interest\n",
    "    start_date: Starting date of period for which data is required\n",
    "    end_date: Ending date of period for which data is required\n",
    "    reducer: The type reducer for time series image collection. Can choose between mean, max and min. Default is mean.\n",
    "    '''\n",
    "    \n",
    "    gdf = gpd.read_file(boundary_path)\n",
    "    fc = ee.FeatureCollection(geemap.geopandas_to_ee(gdf))\n",
    "    \n",
    "    if reducer == 'mean':\n",
    "        ic = ee.ImageCollection(product_path).filterBounds(fc).filterDate(start_date, end_date).select(band_name).reduce(ee.Reducer.mean())\n",
    "        \n",
    "    elif reducer == 'max':\n",
    "        ic = ee.ImageCollection(product_path).filterBounds(fc).filterDate(start_date, end_date).select(band_name).reduce(ee.Reducer.max())\n",
    "        \n",
    "    elif reducer == 'min':\n",
    "        ic = ee.ImageCollection(product_path).filterBounds(fc).filterDate(start_date, end_date).select(band_name).reduce(ee.Reducer.min())\n",
    "    \n",
    "    def convert_ic(raw):\n",
    "        converted = raw.multiply(band_scale).add(band_offset)\n",
    "        return converted\n",
    "    \n",
    "    img = ee.ImageCollection(ic).map(convert_ic)\n",
    "    img = img.toBands()\n",
    "    \n",
    "    return img"
   ]
  },
  {
   "cell_type": "code",
   "execution_count": 3,
   "id": "f5765175",
   "metadata": {},
   "outputs": [
    {
     "data": {
      "text/html": [
       "\n",
       "            <style>\n",
       "                .geemap-dark {\n",
       "                    --jp-widgets-color: white;\n",
       "                    --jp-widgets-label-color: white;\n",
       "                    --jp-ui-font-color1: white;\n",
       "                    --jp-layout-color2: #454545;\n",
       "                    background-color: #383838;\n",
       "                }\n",
       "                    \n",
       "                .geemap-dark .jupyter-button {\n",
       "                    --jp-layout-color3: #383838;\n",
       "                }\n",
       "                \n",
       "                .geemap-colab {\n",
       "                    background-color: var(--colab-primary-surface-color, white);\n",
       "                }\n",
       "                    \n",
       "                .geemap-colab .jupyter-button {\n",
       "                    --jp-layout-color3: var(--colab-primary-surface-color, white);\n",
       "                }\n",
       "            </style>\n",
       "            "
      ],
      "text/plain": [
       "<IPython.core.display.HTML object>"
      ]
     },
     "metadata": {},
     "output_type": "display_data"
    }
   ],
   "source": [
    "def extract_modisterra_lst(boundary_path, start_date, end_date):\n",
    "    \n",
    "    '''\n",
    "    boundary_path: Path to geojson of area of interest\n",
    "    start_date: Starting date of period for which data is required\n",
    "    end_date: Ending date of period for which data is required\n",
    "    '''\n",
    "    \n",
    "    product_path = 'MODIS/006/MYD11A1'\n",
    "    day_band_name = 'LST_Day_1km'\n",
    "    night_band_name = 'LST_Night_1km'\n",
    "    band_scale = 0.02\n",
    "    KtoC = -273.15\n",
    "    \n",
    "    lst_day_ic = extract_gee_data(product_path, day_band_name, band_scale, KtoC, boundary_path, start_date, end_date)\n",
    "    lst_night_ic = extract_gee_data(product_path, night_band_name, band_scale, KtoC, boundary_path, start_date, end_date)\n",
    "    \n",
    "    return (lst_day_ic, lst_night_ic)"
   ]
  },
  {
   "cell_type": "code",
   "execution_count": 4,
   "id": "59fb6ea3",
   "metadata": {},
   "outputs": [
    {
     "data": {
      "text/html": [
       "\n",
       "            <style>\n",
       "                .geemap-dark {\n",
       "                    --jp-widgets-color: white;\n",
       "                    --jp-widgets-label-color: white;\n",
       "                    --jp-ui-font-color1: white;\n",
       "                    --jp-layout-color2: #454545;\n",
       "                    background-color: #383838;\n",
       "                }\n",
       "                    \n",
       "                .geemap-dark .jupyter-button {\n",
       "                    --jp-layout-color3: #383838;\n",
       "                }\n",
       "                \n",
       "                .geemap-colab {\n",
       "                    background-color: var(--colab-primary-surface-color, white);\n",
       "                }\n",
       "                    \n",
       "                .geemap-colab .jupyter-button {\n",
       "                    --jp-layout-color3: var(--colab-primary-surface-color, white);\n",
       "                }\n",
       "            </style>\n",
       "            "
      ],
      "text/plain": [
       "<IPython.core.display.HTML object>"
      ]
     },
     "metadata": {},
     "output_type": "display_data"
    }
   ],
   "source": [
    "def export_img_to_drive(img, boundary_path, name, folder, scale):\n",
    "    \n",
    "    '''\n",
    "    img: Image to be exported\n",
    "    boundary_path: Path to geojson of area of interest\n",
    "    name: Save name to be given to the file\n",
    "    folder: folder in google drive where file is to be saved\n",
    "    scale: Scale/spatial resolution in meters at which file is to be saved. MODIS LST 1000m. Landsat 8 30m.\n",
    "    '''\n",
    "\n",
    "    gdf = gpd.read_file(boundary_path)\n",
    "    fc = ee.FeatureCollection(geemap.geopandas_to_ee(gdf))\n",
    "\n",
    "    geemap.ee_export_image_to_drive(\n",
    "            img, \n",
    "            description = name,\n",
    "            folder = folder, \n",
    "            scale = scale, \n",
    "            region = fc.geometry(),\n",
    "            maxPixels = 5000000000\n",
    "        )"
   ]
  },
  {
   "cell_type": "code",
   "execution_count": 5,
   "id": "d9a13df6",
   "metadata": {},
   "outputs": [
    {
     "data": {
      "text/html": [
       "\n",
       "            <style>\n",
       "                .geemap-dark {\n",
       "                    --jp-widgets-color: white;\n",
       "                    --jp-widgets-label-color: white;\n",
       "                    --jp-ui-font-color1: white;\n",
       "                    --jp-layout-color2: #454545;\n",
       "                    background-color: #383838;\n",
       "                }\n",
       "                    \n",
       "                .geemap-dark .jupyter-button {\n",
       "                    --jp-layout-color3: #383838;\n",
       "                }\n",
       "                \n",
       "                .geemap-colab {\n",
       "                    background-color: var(--colab-primary-surface-color, white);\n",
       "                }\n",
       "                    \n",
       "                .geemap-colab .jupyter-button {\n",
       "                    --jp-layout-color3: var(--colab-primary-surface-color, white);\n",
       "                }\n",
       "            </style>\n",
       "            "
      ],
      "text/plain": [
       "<IPython.core.display.HTML object>"
      ]
     },
     "metadata": {},
     "output_type": "display_data"
    }
   ],
   "source": [
    "#boundary_path = 'https://cities-indicators.s3.eu-west-3.amazonaws.com/heat/coolmap/data/boundary/boundary-IND-Ahmedabad-wards-Census2011.geojson'\n",
    "boundary_path = 'https://cities-indicators.s3.eu-west-3.amazonaws.com/heat/coolmap/data/boundary/boundary-ARG-Buenos_Aires-city-ADM2.geojson'"
   ]
  },
  {
   "cell_type": "code",
   "execution_count": 6,
   "id": "7ae1c6cd",
   "metadata": {},
   "outputs": [
    {
     "data": {
      "text/html": [
       "\n",
       "            <style>\n",
       "                .geemap-dark {\n",
       "                    --jp-widgets-color: white;\n",
       "                    --jp-widgets-label-color: white;\n",
       "                    --jp-ui-font-color1: white;\n",
       "                    --jp-layout-color2: #454545;\n",
       "                    background-color: #383838;\n",
       "                }\n",
       "                    \n",
       "                .geemap-dark .jupyter-button {\n",
       "                    --jp-layout-color3: #383838;\n",
       "                }\n",
       "                \n",
       "                .geemap-colab {\n",
       "                    background-color: var(--colab-primary-surface-color, white);\n",
       "                }\n",
       "                    \n",
       "                .geemap-colab .jupyter-button {\n",
       "                    --jp-layout-color3: var(--colab-primary-surface-color, white);\n",
       "                }\n",
       "            </style>\n",
       "            "
      ],
      "text/plain": [
       "<IPython.core.display.HTML object>"
      ]
     },
     "metadata": {},
     "output_type": "display_data"
    }
   ],
   "source": [
    "start_date = '2000-02-24'\n",
    "end_date = '2023-11-30'"
   ]
  },
  {
   "cell_type": "code",
   "execution_count": 7,
   "id": "314166bf",
   "metadata": {},
   "outputs": [
    {
     "data": {
      "text/html": [
       "\n",
       "            <style>\n",
       "                .geemap-dark {\n",
       "                    --jp-widgets-color: white;\n",
       "                    --jp-widgets-label-color: white;\n",
       "                    --jp-ui-font-color1: white;\n",
       "                    --jp-layout-color2: #454545;\n",
       "                    background-color: #383838;\n",
       "                }\n",
       "                    \n",
       "                .geemap-dark .jupyter-button {\n",
       "                    --jp-layout-color3: #383838;\n",
       "                }\n",
       "                \n",
       "                .geemap-colab {\n",
       "                    background-color: var(--colab-primary-surface-color, white);\n",
       "                }\n",
       "                    \n",
       "                .geemap-colab .jupyter-button {\n",
       "                    --jp-layout-color3: var(--colab-primary-surface-color, white);\n",
       "                }\n",
       "            </style>\n",
       "            "
      ],
      "text/plain": [
       "<IPython.core.display.HTML object>"
      ]
     },
     "metadata": {},
     "output_type": "display_data"
    }
   ],
   "source": [
    "lst_day, lst_night = extract_modisterra_lst(boundary_path, start_date, end_date)"
   ]
  },
  {
   "cell_type": "code",
   "execution_count": 8,
   "id": "36e3a055",
   "metadata": {},
   "outputs": [
    {
     "data": {
      "text/html": [
       "\n",
       "            <style>\n",
       "                .geemap-dark {\n",
       "                    --jp-widgets-color: white;\n",
       "                    --jp-widgets-label-color: white;\n",
       "                    --jp-ui-font-color1: white;\n",
       "                    --jp-layout-color2: #454545;\n",
       "                    background-color: #383838;\n",
       "                }\n",
       "                    \n",
       "                .geemap-dark .jupyter-button {\n",
       "                    --jp-layout-color3: #383838;\n",
       "                }\n",
       "                \n",
       "                .geemap-colab {\n",
       "                    background-color: var(--colab-primary-surface-color, white);\n",
       "                }\n",
       "                    \n",
       "                .geemap-colab .jupyter-button {\n",
       "                    --jp-layout-color3: var(--colab-primary-surface-color, white);\n",
       "                }\n",
       "            </style>\n",
       "            "
      ],
      "text/plain": [
       "<IPython.core.display.HTML object>"
      ]
     },
     "metadata": {},
     "output_type": "display_data"
    }
   ],
   "source": [
    "export_img_to_drive(lst_day, boundary_path, 'Buenos_Aires_LST_Day', 'gee_exports', scale = 1000)\n",
    "export_img_to_drive(lst_night, boundary_path, 'Buenos_Aires_LST_Night', 'gee_exports', scale = 1000)"
   ]
  },
  {
   "cell_type": "code",
   "execution_count": null,
   "id": "4e54d39c",
   "metadata": {},
   "outputs": [],
   "source": []
  }
 ],
 "metadata": {
  "kernelspec": {
   "display_name": "Python 3 (ipykernel)",
   "language": "python",
   "name": "python3"
  },
  "language_info": {
   "codemirror_mode": {
    "name": "ipython",
    "version": 3
   },
   "file_extension": ".py",
   "mimetype": "text/x-python",
   "name": "python",
   "nbconvert_exporter": "python",
   "pygments_lexer": "ipython3",
   "version": "3.10.13"
  }
 },
 "nbformat": 4,
 "nbformat_minor": 5
}
