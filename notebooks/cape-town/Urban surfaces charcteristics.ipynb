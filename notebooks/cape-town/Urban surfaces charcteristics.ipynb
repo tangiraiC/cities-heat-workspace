{
 "cells": [
  {
   "cell_type": "markdown",
   "id": "6bfb6a82-0efb-4371-92e1-0808b08b8754",
   "metadata": {},
   "source": [
    "# Land Cover"
   ]
  },
  {
   "cell_type": "markdown",
   "id": "87d04b23-c1f5-46fe-9cb5-174963116081",
   "metadata": {},
   "source": [
    "# Tree cover"
   ]
  },
  {
   "cell_type": "markdown",
   "id": "f67181c7-8b0e-44a1-91e2-73390c10b76a",
   "metadata": {},
   "source": [
    "# ALbedo"
   ]
  },
  {
   "cell_type": "code",
   "execution_count": null,
   "id": "1027a82f-865a-4960-b568-76004c21ebd3",
   "metadata": {},
   "outputs": [],
   "source": []
  }
 ],
 "metadata": {
  "kernelspec": {
   "display_name": "Python 3 (ipykernel)",
   "language": "python",
   "name": "python3"
  },
  "language_info": {
   "codemirror_mode": {
    "name": "ipython",
    "version": 3
   },
   "file_extension": ".py",
   "mimetype": "text/x-python",
   "name": "python",
   "nbconvert_exporter": "python",
   "pygments_lexer": "ipython3",
   "version": "3.10.13"
  }
 },
 "nbformat": 4,
 "nbformat_minor": 5
}
