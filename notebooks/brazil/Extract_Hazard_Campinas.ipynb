{
 "cells": [
  {
   "cell_type": "code",
   "execution_count": 1,
   "id": "e449c3ae",
   "metadata": {},
   "outputs": [],
   "source": [
    "import os\n",
    "import warnings\n",
    "warnings.simplefilter('ignore')\n",
    "\n",
    "import geopandas as gpd\n",
    "import pandas as pd\n",
    "import numpy as np"
   ]
  },
  {
   "cell_type": "code",
   "execution_count": 30,
   "id": "23f19c18",
   "metadata": {},
   "outputs": [],
   "source": [
    "def func_hazard_tract_agg(hazard, boundary, hazard_var, boundary_code):\n",
    "\n",
    "    boundary = boundary.to_crs(epsg = 22523)\n",
    "\n",
    "    hazard_id = hazard[[hazard_var, 'geometry']]\n",
    "\n",
    "    boundary_id = boundary[[boundary_code, 'geometry']]\n",
    "\n",
    "    hazard_census = gpd.overlay(boundary_id, hazard_id, how = 'intersection', keep_geom_type = False)\n",
    "\n",
    "    hazard_census_max = hazard_census.dissolve(by = boundary_code, aggfunc = 'max').reset_index()\n",
    "\n",
    "    hazard_census_max = hazard_census_max.rename({hazard_var:hazard_var + '_max'}, axis = 1)\n",
    "\n",
    "    hazard_census['area'] = hazard_census.geometry.area\n",
    "\n",
    "    hazard_census[hazard_var + '_mean'] = hazard_census[hazard_var]*hazard_census['area']\n",
    "\n",
    "    hazard_census_sum = hazard_census.dissolve(by = boundary_code, aggfunc = 'sum').reset_index()\n",
    "\n",
    "    hazard_census_sum[hazard_var + '_mean'] = hazard_census_sum[hazard_var + '_mean']/hazard_census_sum['area']\n",
    "\n",
    "    hazard_census_sum = hazard_census_sum.drop([hazard_var], axis = 1)\n",
    "\n",
    "    hazard_census_final = hazard_census_sum.merge(hazard_census_max.drop('geometry', axis = 1), on = boundary_code, how = 'left')\n",
    "\n",
    "    hazard_census_final = boundary_id.merge(hazard_census_final.drop('geometry', axis = 1), on = boundary_code, how = 'left')\n",
    "\n",
    "    return hazard_census_final"
   ]
  },
  {
   "cell_type": "code",
   "execution_count": 3,
   "id": "9ffd46aa",
   "metadata": {},
   "outputs": [],
   "source": [
    "heat = gpd.read_file('https://cities-socio-economic-vulnerability.s3.eu-west-3.amazonaws.com/case-studies/campinas/campinas_heat.geojson')"
   ]
  },
  {
   "cell_type": "code",
   "execution_count": 31,
   "id": "6490399d",
   "metadata": {},
   "outputs": [],
   "source": [
    "landslide = gpd.read_file('../Data/Campinas/C4F_dados/_Perigos_climaticos/_Deslizamento/CAM_Risco_Deslizamento.shp')\n",
    "landslide = landslide.set_crs(epsg = 22523)"
   ]
  },
  {
   "cell_type": "code",
   "execution_count": 32,
   "id": "25044ef0",
   "metadata": {},
   "outputs": [],
   "source": [
    "flood = gpd.read_file('../Data/Campinas/C4F_dados/_Perigos_climaticos/_Alagamento/CAM_Risco_Alagamento.shp')"
   ]
  },
  {
   "cell_type": "code",
   "execution_count": 33,
   "id": "3da50a52",
   "metadata": {},
   "outputs": [],
   "source": [
    "inundation = gpd.read_file('../Data/Campinas/C4F_dados/_Perigos_climaticos/_Inundaçao/CAM_Risco_Inundacao.shp')"
   ]
  },
  {
   "cell_type": "code",
   "execution_count": 2,
   "id": "1a962ce7",
   "metadata": {},
   "outputs": [],
   "source": [
    "census_tract = gpd.read_file('https://cities-socio-economic-vulnerability.s3.eu-west-3.amazonaws.com/case-studies/campinas/census_trac_geo.geojson')"
   ]
  },
  {
   "cell_type": "code",
   "execution_count": 37,
   "id": "44adbcd3",
   "metadata": {},
   "outputs": [],
   "source": [
    "heat_census_max = func_hazard_tract_agg(heat, census_tract, 'T_mean_max', 'code_tract')"
   ]
  },
  {
   "cell_type": "code",
   "execution_count": 38,
   "id": "3e1b4b1f",
   "metadata": {},
   "outputs": [],
   "source": [
    "heat_census_mean = func_hazard_tract_agg(heat, census_tract, 'T_mean_mea', 'code_tract')"
   ]
  },
  {
   "cell_type": "code",
   "execution_count": 66,
   "id": "37354b72",
   "metadata": {},
   "outputs": [],
   "source": [
    "heat_indice = func_hazard_tract_agg(heat, census_tract, 'indice', 'code_tract')"
   ]
  },
  {
   "cell_type": "code",
   "execution_count": 67,
   "id": "73d9e243",
   "metadata": {},
   "outputs": [],
   "source": [
    "heat_vuln_indic = func_hazard_tract_agg(heat, census_tract, 'vuln_indic', 'code_tract')"
   ]
  },
  {
   "cell_type": "code",
   "execution_count": 68,
   "id": "37f84e8a",
   "metadata": {},
   "outputs": [],
   "source": [
    "heat_risco_indi = func_hazard_tract_agg(heat, census_tract, 'risco_indi', 'code_tract')"
   ]
  },
  {
   "cell_type": "code",
   "execution_count": 39,
   "id": "d1647077",
   "metadata": {},
   "outputs": [],
   "source": [
    "landslide_census = hazard_tract_agg(landslide, census_tract, 'indice_sum', 'code_tract')"
   ]
  },
  {
   "cell_type": "code",
   "execution_count": 40,
   "id": "e36eb9bc",
   "metadata": {},
   "outputs": [],
   "source": [
    "flood_census = hazard_tract_agg(flood, census_tract, 'indice_sum', 'code_tract')"
   ]
  },
  {
   "cell_type": "code",
   "execution_count": 41,
   "id": "95eed17d",
   "metadata": {},
   "outputs": [],
   "source": [
    "inundation_census = hazard_tract_agg(inundation, census_tract, 'indice_sum', 'code_tract')"
   ]
  },
  {
   "cell_type": "code",
   "execution_count": 75,
   "id": "489fe4b6",
   "metadata": {},
   "outputs": [],
   "source": [
    "all_hazard_tract = census_tract[['code_tract', 'geometry']]\n",
    "\n",
    "all_hazard_tract['Heat_T_mean_max_max'] = heat_census_max['T_mean_max_max']\n",
    "all_hazard_tract['Heat_T_mean_max_mean'] = heat_census_max['T_mean_max_mean']\n",
    "all_hazard_tract['Heat_T_mean_mean_max'] = heat_census_mean['T_mean_mea_max']\n",
    "all_hazard_tract['Heat_T_mean_mean_mean'] = heat_census_mean['T_mean_mea_mean']\n",
    "\n",
    "all_hazard_tract['Heat_indice_max'] = heat_indice['indice_max']\n",
    "all_hazard_tract['Heat_indice_mean'] = heat_indice['indice_mean']\n",
    "\n",
    "all_hazard_tract['Heat_vuln_indic_max'] = heat_vuln_indic['vuln_indic_max']\n",
    "all_hazard_tract['Heat_vuln_indic_mean'] = heat_vuln_indic['vuln_indic_mean']\n",
    "\n",
    "all_hazard_tract['Heat_risco_indi_max'] = heat_risco_indi['risco_indi_max']\n",
    "all_hazard_tract['Heat_risco_indi_mean'] = heat_risco_indi['risco_indi_mean']\n",
    "\n",
    "all_hazard_tract['Landslide_indice_sum_max'] = landslide_census['indice_sum_max']\n",
    "all_hazard_tract['Landslide_indice_sum_mean'] = landslide_census['indice_sum_mean']\n",
    "\n",
    "all_hazard_tract['Flood_indice_sum_max'] = flood_census['indice_sum_max']\n",
    "all_hazard_tract['Flood_indice_sum_mean'] = flood_census['indice_sum_mean']\n",
    "\n",
    "all_hazard_tract['Inundation_indice_sum_max'] = inundation_census['indice_sum_max']\n",
    "all_hazard_tract['Inundation_indice_sum_mean'] = inundation_census['indice_sum_mean']"
   ]
  },
  {
   "cell_type": "code",
   "execution_count": 76,
   "id": "9441da82",
   "metadata": {},
   "outputs": [],
   "source": [
    "for i in list(all_hazard_tract.columns)[2:]:\n",
    "    all_hazard_tract[i] = round(all_hazard_tract[i],5)"
   ]
  },
  {
   "cell_type": "code",
   "execution_count": 78,
   "id": "9aa5961a",
   "metadata": {},
   "outputs": [],
   "source": [
    "all_hazard_tract.to_file('../Data/all_hazard_tract.geojson')"
   ]
  },
  {
   "cell_type": "code",
   "execution_count": 86,
   "id": "e96bcfe7",
   "metadata": {},
   "outputs": [],
   "source": [
    "all_hazard_grid = landslide[['id', 'indice_sum', 'geometry']]\n",
    "\n",
    "all_hazard_grid.columns = ['id', 'landslide_indice_sum', 'geometry']\n",
    "\n",
    "heat1 = heat[['id', 'T_mean_max', 'T_mean_mea', 'indice', 'vuln_indic', 'risco_indi']]\n",
    "heat1.columns = ['id', 'heat_T_mean_max', 'heat_T_mean_mea', 'heat_indice', 'heat_vuln_indic', 'heat_risco_indi']\n",
    "\n",
    "flood1 = flood[['id', 'indice_sum']]\n",
    "flood1.columns = ['id', 'flood_indice_sum']\n",
    "\n",
    "inundation1 = inundation[['id', 'indice_sum']]\n",
    "inundation1.columns = ['id', 'inundation_indice_sum']\n",
    "\n",
    "all_hazard_grid = all_hazard_grid.merge(heat1, on = 'id', how = 'left').merge(flood1, on = 'id', how = 'left').merge(inundation1, on = 'id', how = 'left')"
   ]
  },
  {
   "cell_type": "code",
   "execution_count": 4,
   "id": "16ed20b7",
   "metadata": {},
   "outputs": [],
   "source": [
    "extent = census_tract[['geometry']].dissolve()"
   ]
  },
  {
   "cell_type": "code",
   "execution_count": 18,
   "id": "3c22d683",
   "metadata": {},
   "outputs": [],
   "source": [
    "all_hazard_grid_tract = gpd.sjoin(all_hazard_grid, extent, 'inner')"
   ]
  },
  {
   "cell_type": "code",
   "execution_count": 88,
   "id": "85975733",
   "metadata": {},
   "outputs": [],
   "source": [
    "all_hazard_grid_tract.to_file('../Data/all_hazard_grid.geojson')"
   ]
  }
 ],
 "metadata": {
  "kernelspec": {
   "display_name": "Python 3 (ipykernel)",
   "language": "python",
   "name": "python3"
  },
  "language_info": {
   "codemirror_mode": {
    "name": "ipython",
    "version": 3
   },
   "file_extension": ".py",
   "mimetype": "text/x-python",
   "name": "python",
   "nbconvert_exporter": "python",
   "pygments_lexer": "ipython3",
   "version": "3.10.13"
  }
 },
 "nbformat": 4,
 "nbformat_minor": 5
}
